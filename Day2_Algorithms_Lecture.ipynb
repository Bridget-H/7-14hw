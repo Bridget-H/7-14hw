{
 "cells": [
  {
   "cell_type": "markdown",
   "metadata": {},
   "source": [
    "# Classic Algorithms"
   ]
  },
  {
   "cell_type": "markdown",
   "metadata": {},
   "source": [
    "## Tasks Today:\n",
    " \n",
    "1) <b>In-Place Algorithms</b> <br>\n",
    " &nbsp;&nbsp;&nbsp;&nbsp; a) Syntax <br>\n",
    " &nbsp;&nbsp;&nbsp;&nbsp; a) Out of Place Algorithm <br>\n",
    " &nbsp;&nbsp;&nbsp;&nbsp; b) In-Class Exercise #1 <br>\n",
    "2) <b>Two Pointers</b> <br>\n",
    "3) <b>Sorting Algorithms</b> <br>\n",
    "4) <b>Merge Sort</b> <br>\n",
    " &nbsp;&nbsp;&nbsp;&nbsp; a) Video on Algorithms <br>\n",
    " &nbsp;&nbsp;&nbsp;&nbsp; b) How it Works <br>\n",
    "5) <b>Exercises</b> <br>\n",
    " &nbsp;&nbsp;&nbsp;&nbsp; a) Exercise #1 - Reverse a List in Place Using an In-Place Algorithm <br>\n",
    " &nbsp;&nbsp;&nbsp;&nbsp; b) Exercise #2 - Find Distinct Words <br>\n",
    " &nbsp;&nbsp;&nbsp;&nbsp; c) Exercise #3 - Write a program to implement a Linear Search Algorithm. <br>"
   ]
  },
  {
   "cell_type": "code",
   "execution_count": 25,
   "metadata": {},
   "outputs": [
    {
     "data": {
      "text/plain": [
       "['1',\n",
       " '2',\n",
       " 'fizz',\n",
       " '4',\n",
       " 'Buzz',\n",
       " 'fizz',\n",
       " '7',\n",
       " '8',\n",
       " 'fizz',\n",
       " 'Buzz',\n",
       " '11',\n",
       " 'fizz',\n",
       " '13',\n",
       " '14',\n",
       " 'FizzBuzz']"
      ]
     },
     "execution_count": 25,
     "metadata": {},
     "output_type": "execute_result"
    }
   ],
   "source": [
    "#white board\n",
    "#Given an integer n, return a string array answer (1-indexed) where:\n",
    "#\n",
    "#answer[i] == \"FizzBuzz\" if i is divisible by 3 and 5.\n",
    "#answer[i] == \"Fizz\" if i is divisible by 3.\n",
    "#answer[i] == \"Buzz\" if i is divisible by 5.\n",
    "#answer[i] == i if non of the above conditions are true.\n",
    "# \n",
    "#ex1:\n",
    "#Input: n = 3\n",
    "#Output: [\"1\",\"2\",\"Fizz\"]\n",
    "#\n",
    "#ex2:\n",
    "#Input: n = 5\n",
    "#Output: [\"1\",\"2\",\"Fizz\",\"4\",\"Buzz\"]\n",
    "#\n",
    "#ex3:\n",
    "#Input: n = 15\n",
    "#Output: [\"1\",\"2\",\"Fizz\",\"4\",\"Buzz\",\"Fizz\",\"7\",\"8\",\"Fizz\",\"Buzz\",\"11\",\"Fizz\",\"13\",\"14\",\"FizzBuzz\"]\n",
    "\n",
    "def fb (n):\n",
    "    lst = []\n",
    "    for i in range(1, n+1):\n",
    "        #print(i, end =\" \")\n",
    "        #print()\n",
    "        \n",
    "        if i % 3 ==0 and i % 5 ==0:\n",
    "                lst.append(\"FizzBuzz\")\n",
    "                \n",
    "        elif i % 3 ==0:\n",
    "                lst.append(\"fizz\")\n",
    "                \n",
    "        elif i % 5 ==0:\n",
    "                lst.append(\"Buzz\")\n",
    "                \n",
    "        else:\n",
    "                lst.append(str((i)))\n",
    "    \n",
    "    \n",
    "    \n",
    "    return lst\n",
    "\n",
    "fb(15)\n",
    "\n"
   ]
  },
  {
   "cell_type": "markdown",
   "metadata": {},
   "source": [
    "## In-Place Algorithms"
   ]
  },
  {
   "cell_type": "markdown",
   "metadata": {},
   "source": [
    "#### Syntax"
   ]
  },
  {
   "cell_type": "code",
   "execution_count": 31,
   "metadata": {},
   "outputs": [
    {
     "name": "stdout",
     "output_type": "stream",
     "text": [
      "[1, 4, 5, 6, 7, 12]\n",
      "<built-in method sort of list object at 0x00000225BD93FD80>\n"
     ]
    }
   ],
   "source": [
    "a_list = [4, 7, 12, 1, 6, 5]\n",
    "\n",
    "print(sorted(a_list))\n",
    "print(a_list.sort)"
   ]
  },
  {
   "cell_type": "code",
   "execution_count": 35,
   "metadata": {},
   "outputs": [
    {
     "name": "stdout",
     "output_type": "stream",
     "text": [
      "[4, 2, 3, 1]\n"
     ]
    }
   ],
   "source": [
    "my_list = [1, 2, 3, 4]\n",
    "\n",
    "temp = my_list[0]\n",
    "my_list[0], my_list[3] = my_list[3], my_list[0] #moving indexies, here we are spcifically flipping them\n",
    "\n",
    "\n",
    "print(my_list)\n"
   ]
  },
  {
   "cell_type": "code",
   "execution_count": 38,
   "metadata": {},
   "outputs": [
    {
     "name": "stdout",
     "output_type": "stream",
     "text": [
      "before swap: [20, 5, 10]\n",
      "After Swap: [10, 5, 20]\n"
     ]
    }
   ],
   "source": [
    "#sometimes known as a swap algorithm\n",
    "def swap(alist, x, y):\n",
    "    alist[x], alist[y] = alist[y], alist[x]\n",
    "    \n",
    "my_list = [20, 5, 10]\n",
    "print(f'before swap: {my_list}')\n",
    "\n",
    "swap(my_list, 0, 2) # this is the argument for our parameter and the 0, and 2 are the index's that we're refering to with x, y\n",
    "\n",
    "print(f'After Swap: {my_list}')"
   ]
  },
  {
   "cell_type": "markdown",
   "metadata": {},
   "source": [
    "#### Out of Place Algorithm"
   ]
  },
  {
   "cell_type": "code",
   "execution_count": 41,
   "metadata": {},
   "outputs": [
    {
     "name": "stdout",
     "output_type": "stream",
     "text": [
      "[5, 4, 3, 2, 1]\n"
     ]
    }
   ],
   "source": [
    "my_list = [1, 2, 3, 4, 5]\n",
    "new_list = [''] * len(my_list)\n",
    "new_list[0] = my_list[len(my_list)-0-1]\n",
    "new_list[1] = my_list[len(my_list)-1-1]\n",
    "new_list[2] = my_list[len(my_list)-2-1]\n",
    "new_list[3] = my_list[len(my_list)-3-1]\n",
    "new_list[4] = my_list[len(my_list)-4-1]\n",
    "print(new_list)\n"
   ]
  },
  {
   "cell_type": "code",
   "execution_count": 42,
   "metadata": {},
   "outputs": [
    {
     "name": "stdout",
     "output_type": "stream",
     "text": [
      "before swap: ['a', 'b', 'c', 'd']\n",
      "['d', 'c', 'b', 'a']\n",
      "After swap: ['a', 'b', 'c', 'd']\n"
     ]
    }
   ],
   "source": [
    "#long for out of place reversal\n",
    "list_1 = ['a', 'b', 'c', 'd']\n",
    "\n",
    "def out_of_place_reverse(alist):\n",
    "    length = len(alist)\n",
    "    new_list = [''] * length\n",
    "    for i in range(length):\n",
    "        new_list[i] = alist[length-i-1]\n",
    "    return new_list\n",
    "\n",
    "print(f'before swap: {list_1}')\n",
    "\n",
    "print(out_of_place_reverse(list_1))\n",
    "\n",
    "print(f'After swap: {list_1}')"
   ]
  },
  {
   "cell_type": "markdown",
   "metadata": {},
   "source": [
    "#### In-Class Exercise #1 <br>\n",
    "<p>Write a function that takes in four arguments (list, index1, index2, index3), and swaps those three positions in the list passed in.</p>"
   ]
  },
  {
   "cell_type": "code",
   "execution_count": 54,
   "metadata": {},
   "outputs": [
    {
     "data": {
      "text/plain": [
       "[10, 8, 3, 4, 4, 2, 6]"
      ]
     },
     "execution_count": 54,
     "metadata": {},
     "output_type": "execute_result"
    }
   ],
   "source": [
    "l_1 = [10, 4, 3, 8, 4, 2, 6]\n",
    "\n",
    "def swap (l_1,x,y,z):\n",
    "    l_1[1], l_1[2], l_1[3] = l_1[3], l_1[2], l_1[1] #moving indexies, here we are spcifically flipping them\n",
    "    return(l_1)\n",
    "\n",
    "swap(l_1,[1],[2],[3])"
   ]
  },
  {
   "cell_type": "markdown",
   "metadata": {},
   "source": [
    "## Two Pointers"
   ]
  },
  {
   "cell_type": "markdown",
   "metadata": {},
   "source": [
    "#### Syntax"
   ]
  },
  {
   "cell_type": "code",
   "execution_count": 59,
   "metadata": {},
   "outputs": [
    {
     "name": "stdout",
     "output_type": "stream",
     "text": [
      "[1, 2, 3, 4, 5, 6, 7, 8, 9, 10]\n"
     ]
    },
    {
     "data": {
      "text/plain": [
       "[10, 9, 8, 7, 6, 5, 4, 3, 2, 1]"
      ]
     },
     "execution_count": 59,
     "metadata": {},
     "output_type": "execute_result"
    }
   ],
   "source": [
    "#An algorithm that will continue to swap elements until the initial list has reversed\n",
    "# use 2 pointers to swap, also use a while loop\n",
    "#a list [left], alis[right] = alist[right], alist[left]\n",
    "\n",
    "ten_list = [1, 2, 3, 4, 5, 6, 7, 8, 9, 10]\n",
    "print(ten_list)\n",
    "\n",
    "def swap_with_pointers(alist):\n",
    "    # Create pointers for our list\n",
    "    left = 0 #first index\n",
    "    right = len(alist) - 1 #last index\n",
    "    while left < right:\n",
    "        alist[left], alist[right] =   alist[right], alist[left]\n",
    "        left += 1\n",
    "        right -= 1\n",
    "    return alist\n",
    "\n",
    "swap_with_pointers(ten_list)"
   ]
  },
  {
   "cell_type": "markdown",
   "metadata": {},
   "source": [
    "#### Video of Algorithms <br>\n",
    "<p>Watch the video about algorithms.</p>\n",
    "\n",
    "https://www.youtube.com/watch?v=Q9HjeFD62Uk\n",
    "\n",
    "https://www.youtube.com/watch?v=kPRA0W1kECg\n",
    "\n",
    "https://www.youtube.com/watch?v=ZZuD6iUe3Pc"
   ]
  },
  {
   "cell_type": "markdown",
   "metadata": {},
   "source": [
    "# Sorting Algorithms"
   ]
  },
  {
   "cell_type": "code",
   "execution_count": 14,
   "metadata": {},
   "outputs": [
    {
     "name": "stdout",
     "output_type": "stream",
     "text": [
      "[56, 85, 21, 84, 90, 23, 18, 28, 71, 91]\n"
     ]
    }
   ],
   "source": [
    "import random\n",
    "\n",
    "my_list = [random.randint(1,100) for num in range(10)]\n",
    "print(my_list)"
   ]
  },
  {
   "cell_type": "markdown",
   "metadata": {},
   "source": [
    "#### Bubble Sort\n",
    "\n",
    "Worst Case: O(n^2) Time - O(1) Space"
   ]
  },
  {
   "cell_type": "code",
   "execution_count": 11,
   "metadata": {},
   "outputs": [
    {
     "name": "stdout",
     "output_type": "stream",
     "text": [
      "pass 0\n",
      "if 3 > 4:\n",
      "if 4 > 38:\n",
      "if 38 > 44:\n",
      "if 44 > 56:\n",
      "if 56 > 58:\n",
      "if 58 > 86:\n",
      "if 86 > 88:\n",
      "if 88 > 95:\n",
      "if 95 > 97:\n",
      "pass 1\n",
      "if 3 > 4:\n",
      "if 4 > 38:\n",
      "if 38 > 44:\n",
      "if 44 > 56:\n",
      "if 56 > 58:\n",
      "if 58 > 86:\n",
      "if 86 > 88:\n",
      "if 88 > 95:\n",
      "pass 2\n",
      "if 3 > 4:\n",
      "if 4 > 38:\n",
      "if 38 > 44:\n",
      "if 44 > 56:\n",
      "if 56 > 58:\n",
      "if 58 > 86:\n",
      "if 86 > 88:\n",
      "pass 3\n",
      "if 3 > 4:\n",
      "if 4 > 38:\n",
      "if 38 > 44:\n",
      "if 44 > 56:\n",
      "if 56 > 58:\n",
      "if 58 > 86:\n",
      "pass 4\n",
      "if 3 > 4:\n",
      "if 4 > 38:\n",
      "if 38 > 44:\n",
      "if 44 > 56:\n",
      "if 56 > 58:\n",
      "pass 5\n",
      "if 3 > 4:\n",
      "if 4 > 38:\n",
      "if 38 > 44:\n",
      "if 44 > 56:\n",
      "pass 6\n",
      "if 3 > 4:\n",
      "if 4 > 38:\n",
      "if 38 > 44:\n",
      "pass 7\n",
      "if 3 > 4:\n",
      "if 4 > 38:\n",
      "pass 8\n",
      "if 3 > 4:\n",
      "pass 9\n"
     ]
    }
   ],
   "source": [
    "#https://www.hackerearth.com/practice/algorithms/sorting/bubble-sort/visualize/\n",
    "# will take a long time\n",
    "\n",
    "def swap(alist, i, j):\n",
    "    alist[i], alist[j] = alist[j], alist[i]\n",
    "    \n",
    "def bubble_sort(alist):\n",
    "    for i in range(len(alist)):\n",
    "        print('pass', i)\n",
    "        for j in range(len(alist)-i-1):\n",
    "            print(f'if {alist[j]} > {alist[j+1]}:')\n",
    "            if alist[j] > alist[j+1]:\n",
    "                print(\"swap\")\n",
    "                swap(alist, j, j+1)\n",
    "                print(alist)\n",
    "                \n",
    "\n",
    "bubble_sort(my_list)"
   ]
  },
  {
   "cell_type": "code",
   "execution_count": 13,
   "metadata": {},
   "outputs": [
    {
     "name": "stdout",
     "output_type": "stream",
     "text": [
      "[3, 4, 38, 44, 56, 58, 86, 88, 95, 97]\n",
      "[3, 4, 38, 44, 56, 58, 86, 88, 95, 97]\n",
      "[3, 4, 38, 44, 56, 58, 86, 88, 95, 97]\n",
      "[3, 4, 38, 44, 56, 58, 86, 88, 95, 97]\n",
      "[3, 4, 38, 44, 56, 58, 86, 88, 95, 97]\n",
      "[3, 4, 38, 44, 56, 58, 86, 88, 95, 97]\n",
      "[3, 4, 38, 44, 56, 58, 86, 88, 95, 97]\n",
      "[3, 4, 38, 44, 56, 58, 86, 88, 95, 97]\n",
      "[3, 4, 38, 44, 56, 58, 86, 88, 95, 97]\n",
      "[3, 4, 38, 44, 56, 58, 86, 88, 95, 97]\n",
      "[3, 4, 38, 44, 56, 58, 86, 88, 95, 97]\n"
     ]
    },
    {
     "data": {
      "text/plain": [
       "[3, 4, 38, 44, 56, 58, 86, 88, 95, 97]"
      ]
     },
     "execution_count": 13,
     "metadata": {},
     "output_type": "execute_result"
    }
   ],
   "source": [
    "def swap(alist, i, j):\n",
    "    alist[i], alist[j] = alist[j], alist[i]\n",
    "    \n",
    "def bubble_sort(alist):\n",
    "    print(alist)\n",
    "    for i in range(len(alist)):\n",
    "        for j in range(len(alist)-i-1):\n",
    "            if alist[j] > alist[j+1]:\n",
    "                swap(alist, j, j+1)\n",
    "        print(alist)\n",
    "    return alist        \n",
    "\n",
    "bubble_sort(my_list)"
   ]
  },
  {
   "cell_type": "code",
   "execution_count": 15,
   "metadata": {},
   "outputs": [
    {
     "name": "stdout",
     "output_type": "stream",
     "text": [
      "[56, 85, 21, 84, 90, 23, 18, 28, 71, 91]\n",
      "[56, 21, 85, 84, 90, 23, 18, 28, 71, 91]\n",
      "[56, 21, 84, 85, 90, 23, 18, 28, 71, 91]\n",
      "[56, 21, 84, 85, 90, 23, 18, 28, 71, 91]\n",
      "[56, 21, 84, 85, 23, 90, 18, 28, 71, 91]\n",
      "[56, 21, 84, 85, 23, 18, 90, 28, 71, 91]\n",
      "[56, 21, 84, 85, 23, 18, 28, 90, 71, 91]\n",
      "[56, 21, 84, 85, 23, 18, 28, 71, 90, 91]\n",
      "[56, 21, 84, 85, 23, 18, 28, 71, 90, 91]\n"
     ]
    },
    {
     "data": {
      "text/plain": [
       "[56, 21, 84, 85, 23, 18, 28, 71, 90, 91]"
      ]
     },
     "execution_count": 15,
     "metadata": {},
     "output_type": "execute_result"
    }
   ],
   "source": [
    "def bubble_sort2(alist):\n",
    "    is_sorted = False\n",
    "    while not is_sorted:\n",
    "        is_sorted = True\n",
    "        for j in range(len(alist)-1):\n",
    "            if alist[j] > alist[j+1]:\n",
    "                swap(alist, j, j+1)\n",
    "                is_sorted = False\n",
    "            print(alist)\n",
    "        return alist\n",
    "    \n",
    "bubble_sort2([56, 85, 21, 84, 90, 23, 18, 28, 71, 91])"
   ]
  },
  {
   "cell_type": "markdown",
   "metadata": {},
   "source": [
    "##### Insertion Sort\n",
    "\n",
    "Worst Case: O(n^2) time - O(1)space"
   ]
  },
  {
   "cell_type": "code",
   "execution_count": 16,
   "metadata": {},
   "outputs": [
    {
     "name": "stdout",
     "output_type": "stream",
     "text": [
      "[56, 85, 21, 84, 90, 23, 18, 28, 71, 91]\n",
      "[21, 56, 85, 84, 90, 23, 18, 28, 71, 91]\n",
      "[21, 56, 84, 85, 90, 23, 18, 28, 71, 91]\n",
      "[21, 56, 84, 85, 90, 23, 18, 28, 71, 91]\n",
      "[21, 23, 56, 84, 85, 90, 18, 28, 71, 91]\n",
      "[18, 21, 23, 56, 84, 85, 90, 28, 71, 91]\n",
      "[18, 21, 23, 28, 56, 84, 85, 90, 71, 91]\n",
      "[18, 21, 23, 28, 56, 71, 84, 85, 90, 91]\n",
      "[18, 21, 23, 28, 56, 71, 84, 85, 90, 91]\n"
     ]
    },
    {
     "data": {
      "text/plain": [
       "[18, 21, 23, 28, 56, 71, 84, 85, 90, 91]"
      ]
     },
     "execution_count": 16,
     "metadata": {},
     "output_type": "execute_result"
    }
   ],
   "source": [
    "#https://www.hackerearth.com/practice/algorithms/sorting/insertion-sort/visualize/\n",
    "def swap(alist, i, j):\n",
    "    alist[i], alist[j] = alist[j], alist[i]\n",
    "    \n",
    "def insertion_sort(alist):\n",
    "    for i in range(1, len(alist)):\n",
    "       \n",
    "        while i>0 and alist[i] < alist[i-1]:\n",
    "            swap(alist, i, i-1)\n",
    "            i -= 1\n",
    "        print(alist)\n",
    "    return alist\n",
    "\n",
    "insertion_sort(my_list)\n",
    "    "
   ]
  },
  {
   "cell_type": "markdown",
   "metadata": {},
   "source": [
    "## Merge Sort"
   ]
  },
  {
   "cell_type": "markdown",
   "metadata": {},
   "source": [
    "#### How it Works"
   ]
  },
  {
   "cell_type": "code",
   "execution_count": 30,
   "metadata": {},
   "outputs": [
    {
     "name": "stdout",
     "output_type": "stream",
     "text": [
      "Splitting... [18, 21, 23, 28, 56, 71, 84, 85, 90, 91]\n",
      "5\n",
      "[18, 21, 23, 28, 56]\n",
      "[71, 84, 85, 90, 91]\n",
      "Splitting... [18, 21, 23, 28, 56]\n",
      "2\n",
      "[18, 21]\n",
      "[23, 28, 56]\n",
      "Splitting... [18, 21]\n",
      "1\n",
      "[18]\n",
      "[21]\n",
      "Splitting... [18]\n",
      "Merging: [18]\n",
      "Splitting... [21]\n",
      "Merging: [21]\n",
      "Merging: [18, 21]\n",
      "Splitting... [23, 28, 56]\n",
      "1\n",
      "[23]\n",
      "[28, 56]\n",
      "Splitting... [23]\n",
      "Merging: [23]\n",
      "Splitting... [28, 56]\n",
      "1\n",
      "[28]\n",
      "[56]\n",
      "Splitting... [28]\n",
      "Merging: [28]\n",
      "Splitting... [56]\n",
      "Merging: [56]\n",
      "Merging: [28, 56]\n",
      "Merging: [23, 28, 56]\n",
      "Merging: [18, 21, 23, 28, 56]\n",
      "Splitting... [71, 84, 85, 90, 91]\n",
      "2\n",
      "[71, 84]\n",
      "[85, 90, 91]\n",
      "Splitting... [71, 84]\n",
      "1\n",
      "[71]\n",
      "[84]\n",
      "Splitting... [71]\n",
      "Merging: [71]\n",
      "Splitting... [84]\n",
      "Merging: [84]\n",
      "Merging: [71, 84]\n",
      "Splitting... [85, 90, 91]\n",
      "1\n",
      "[85]\n",
      "[90, 91]\n",
      "Splitting... [85]\n",
      "Merging: [85]\n",
      "Splitting... [90, 91]\n",
      "1\n",
      "[90]\n",
      "[91]\n",
      "Splitting... [90]\n",
      "Merging: [90]\n",
      "Splitting... [91]\n",
      "Merging: [91]\n",
      "Merging: [90, 91]\n",
      "Merging: [85, 90, 91]\n",
      "Merging: [71, 84, 85, 90, 91]\n",
      "Merging: [18, 21, 23, 28, 56, 71, 84, 85, 90, 91]\n"
     ]
    },
    {
     "data": {
      "text/plain": [
       "[18, 21, 23, 28, 56, 71, 84, 85, 90, 91]"
      ]
     },
     "execution_count": 30,
     "metadata": {},
     "output_type": "execute_result"
    }
   ],
   "source": [
    "#https://www.hackerearth.com/practice/algorithms/sorting/merge-sort/visualize/\n",
    "#Merge sort step by step\n",
    "#step 1: if list is larger than 1 element continue splitting into halves\n",
    "#step 2: From Left to right ,erge twp groups together\n",
    "#step 3: While merging, place each item in the correct position within the merged lisst\n",
    "#step 4: continue step 3-4 until one group is left\n",
    "\n",
    "def merge_sort(alist):\n",
    "    print(\"Splitting...\", alist)\n",
    "    \n",
    "    #step 1: Divide into halves\n",
    "    if len(alist) >1:\n",
    "        mid = len(alist) //2\n",
    "        print(mid)\n",
    "        lefthalf = alist[:mid]\n",
    "        print(lefthalf)\n",
    "        righthalf = alist[mid:]\n",
    "        print(righthalf)\n",
    "        \n",
    "        # recursively call merge_sort to preform splits as needed\n",
    "        merge_sort(lefthalf)\n",
    "        merge_sort(righthalf)\n",
    "        \n",
    "        # once above function completes, merging of left and right half begins\n",
    "        # set index pointers for our list\n",
    "        \n",
    "        i = 0 #pointer for lefthalf\n",
    "        j = 0 # pointer for righthalf\n",
    "        k = 0 #pointer for alist (list to merge into)\n",
    "        \n",
    "        #step 2: Compare the lefthalf[i] to righthalf[j]\n",
    "        while i <len(lefthalf) and j < len(righthalf):\n",
    "            if lefthalf[i] < righthalf[j]:\n",
    "                alist[k] = lefthalf[i]\n",
    "                i += 1\n",
    "            else:\n",
    "                alist[k] = righthalf[j]\n",
    "                j += 1\n",
    "            k += 1\n",
    "        while i < len(lefthalf):\n",
    "            alist[k] =lefthalf[i]\n",
    "            i += 1\n",
    "            k += 1\n",
    "        while j < len(righthalf):\n",
    "            alist[k] =righthalf[j]\n",
    "            j += 1\n",
    "            k += 1\n",
    "        \n",
    "    print(\"Merging:\", alist)\n",
    "    return alist\n",
    "        \n",
    "        \n",
    "merge_sort(my_list)"
   ]
  },
  {
   "cell_type": "markdown",
   "metadata": {},
   "source": [
    "# Binary Search\n",
    "\n",
    "The Binary Search algorithm works by finding the number in the middle of a given array and comparing it to the target. Given that the array is sorted\n",
    "\n",
    "* The worst case run time for this algorithm is `O(log(n))`"
   ]
  },
  {
   "cell_type": "code",
   "execution_count": 31,
   "metadata": {},
   "outputs": [
    {
     "data": {
      "text/plain": [
       "'The index for 66 is: 4'"
      ]
     },
     "execution_count": 31,
     "metadata": {},
     "output_type": "execute_result"
    }
   ],
   "source": [
    "#https://www.cs.usfca.edu/~galles/visualization/Search.html\n",
    "def binary_search(alist, value):\n",
    "    #set our high and ow for the list\n",
    "    low = 0 #far left of list\n",
    "    high = len(alist) - 1\n",
    "    while low <= high:\n",
    "        mid = (low+high) // 2\n",
    "        if value == alist[mid]:\n",
    "            return f'The index for {value} is: {mid}'\n",
    "        elif value < alist[mid]:\n",
    "            high = mid - 1\n",
    "        else:\n",
    "            low = mid + 1\n",
    "    return -1\n",
    "\n",
    "binary_search([22,33,44,55,66,77,88,99], 66)"
   ]
  },
  {
   "cell_type": "markdown",
   "metadata": {},
   "source": [
    "# Exercises"
   ]
  },
  {
   "cell_type": "markdown",
   "metadata": {},
   "source": [
    "### Exercise #1 <br>\n",
    "<p>Reverse the list below in-place using an in-place algorithm.<br>For extra credit: Reverse the strings at the same time.</p>"
   ]
  },
  {
   "cell_type": "code",
   "execution_count": 5,
   "metadata": {},
   "outputs": [
    {
     "name": "stdout",
     "output_type": "stream",
     "text": [
      "['.', 'ecnetnes', 'a', 'si', 'siht']\n"
     ]
    }
   ],
   "source": [
    "words = ['this' , 'is', 'a', 'sentence', '.']\n",
    "my_list = words\n",
    "\n",
    "temp = my_list[0]\n",
    "my_list[0], my_list[1], my_list[2], my_list[3], my_list[4] = my_list[4][::-1], my_list[3][::-1], my_list[2][::-1], my_list[1][::-1], my_list[0][::-1] \n",
    "\n",
    "print(my_list)\n",
    "\n",
    "    "
   ]
  },
  {
   "cell_type": "markdown",
   "metadata": {},
   "source": [
    "### Exercise #2 <br>\n",
    "<p>Create a function that counts how many distinct words are in the string below, then outputs a dictionary with the words as the key and the value as the amount of times that word appears in the string.<br>Should output:<br>{'a': 5,<br>\n",
    " 'abstract': 1,<br>\n",
    " 'an': 3,<br>\n",
    " 'array': 2, ... etc...</p>"
   ]
  },
  {
   "cell_type": "code",
   "execution_count": 52,
   "metadata": {},
   "outputs": [
    {
     "name": "stdout",
     "output_type": "stream",
     "text": [
      "['in', 'computing,', 'a', 'hash', 'table', 'hash', 'map', 'is', 'a', 'data', 'structure', 'which', 'implements', 'an', 'associative', 'array', 'abstract', 'data', 'type,', 'a', 'structure', 'that', 'can', 'map', 'keys', 'to', 'values.', 'a', 'hash', 'table', 'uses', 'a', 'hash', 'function', 'to', 'compute', 'an', 'index', 'into', 'an', 'array', 'of', 'buckets', 'or', 'slots', 'from', 'which', 'the', 'desired', 'value', 'can', 'be', 'found']\n",
      "53\n",
      "1\n"
     ]
    },
    {
     "data": {
      "text/plain": [
       "1"
      ]
     },
     "execution_count": 52,
     "metadata": {},
     "output_type": "execute_result"
    }
   ],
   "source": [
    "a_text = 'In computing, a hash table hash map is a data structure which implements an associative array abstract data type, a structure that can map keys to values. A hash table uses a hash function to compute an index into an array of buckets or slots from which the desired value can be found'\n",
    "\n",
    "def occur(var):\n",
    "    x = var.lower( )\n",
    "    q = x.split( )\n",
    "    y = len(q)\n",
    "    print(q)\n",
    "    print(y)\n",
    "    print(z)\n",
    "    emptyDict = {} \n",
    "    for i in q: \n",
    "        f= q.count(i)\n",
    "        emptyDict[i] = f\n",
    "        \n",
    "        return f\n",
    "    return emptyDict\n",
    "            \n",
    "        \n",
    "    \n",
    "occur(a_text)\n",
    "\n"
   ]
  },
  {
   "cell_type": "markdown",
   "metadata": {},
   "source": [
    "## Exercise #3\n",
    "\n",
    "Write a program to implement a Linear Search Algorithm. Also in a comment, write the Time Complexity of the following algorithm.\n",
    "\n",
    "#### Hint: Linear Searching will require searching a list for a given number. "
   ]
  },
  {
   "cell_type": "code",
   "execution_count": 55,
   "metadata": {},
   "outputs": [
    {
     "name": "stdout",
     "output_type": "stream",
     "text": [
      "The time complexity is O(N) because each element in an array is compared only once. element found at index 4\n"
     ]
    }
   ],
   "source": [
    "def linearsearch(arr, x):\n",
    "    for i in range(len(arr)):\n",
    "        if arr[i] == x:\n",
    "            return i\n",
    "    return -1\n",
    "arr = ['B','r','i','a','n','&','S','h', 'o', 'h', 'a']\n",
    "x = 'n'\n",
    "print(\"The time complexity is O(N) because each element in an array is compared only once. element found at index \"+str(linearsearch(arr,x)))\n"
   ]
  },
  {
   "cell_type": "code",
   "execution_count": null,
   "metadata": {},
   "outputs": [],
   "source": []
  }
 ],
 "metadata": {
  "kernelspec": {
   "display_name": "Python 3",
   "language": "python",
   "name": "python3"
  },
  "language_info": {
   "codemirror_mode": {
    "name": "ipython",
    "version": 3
   },
   "file_extension": ".py",
   "mimetype": "text/x-python",
   "name": "python",
   "nbconvert_exporter": "python",
   "pygments_lexer": "ipython3",
   "version": "3.8.8"
  }
 },
 "nbformat": 4,
 "nbformat_minor": 2
}
